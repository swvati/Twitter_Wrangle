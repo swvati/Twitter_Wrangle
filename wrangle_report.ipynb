{
 "cells": [
  {
   "cell_type": "markdown",
   "metadata": {},
   "source": [
    "## Reporting: wragle_report\n",
    " "
   ]
  },
  {
   "cell_type": "markdown",
   "metadata": {},
   "source": [
    "### Data Gathering"
   ]
  },
  {
   "cell_type": "markdown",
   "metadata": {},
   "source": [
    "Data is gathered from 3 resources (from a csv file, using request library extracted tsv file,and imported another text file into the environment) are saved in 3 data frames.\n",
    "\n",
    "Used pd.read_csv() to extract data from 'twitter-archive-enhanced.csv' and saved to  df1 \n",
    "\n",
    "Downloaded 'image-predictions.tsv' programatically using requests library and loaded data to df2.\n",
    "\n",
    "USed pd.read_json() to extract twitter data from 'tweet_json.txt' into data frame named df3. \n"
   ]
  },
  {
   "cell_type": "markdown",
   "metadata": {},
   "source": [
    "### Assess Data"
   ]
  },
  {
   "cell_type": "markdown",
   "metadata": {},
   "source": [
    "After visual and programmatic Assesment following are issues discovered: "
   ]
  },
  {
   "cell_type": "markdown",
   "metadata": {},
   "source": [
    "#### Quality Issues:\n",
    "\n"
   ]
  },
  {
   "cell_type": "markdown",
   "metadata": {},
   "source": [
    "1. Rating of denomenator should be standardized to 10.\n",
    "\n",
    "\n",
    "2. We want only original ratings that have images hence we dont need data from retweet columns.\n",
    "\n",
    "\n",
    "3. There are many missing values from the columns. Since they are insignificant to analysis they can be removed (in_reply_to_status_id,in_reply_to_user_id,retweeted_status_id, retweeted_status_user_id ,retweeted_status_timestamp).\n",
    "\n",
    "\n",
    "4. Change the erroneous data under column 'name'.\n",
    "\n",
    "\n",
    "5. Remove duplicated images from jpg_url(df2).\n",
    "\n",
    "\n",
    "6. Replace name of the column from text to tweet in df2.\n",
    "\n",
    "\n",
    "7. Rename column of df3 id to tweet_id.\n",
    "\n",
    "\n",
    "8. All the columns can be merged into single data frame(called data) for better analysis."
   ]
  },
  {
   "cell_type": "markdown",
   "metadata": {},
   "source": [
    "#### Tidiness Issues:"
   ]
  },
  {
   "cell_type": "markdown",
   "metadata": {},
   "source": [
    "1.Create a colum Stage and delete doggo,floofer ,pupper,puppo.\n",
    "\n",
    "2.Change timestamp to datetime in df1 and drop timestamp."
   ]
  },
  {
   "cell_type": "markdown",
   "metadata": {},
   "source": [
    "### Clean Data"
   ]
  },
  {
   "cell_type": "markdown",
   "metadata": {},
   "source": [
    "Make copies of original pieces of data into df1_clean,df2_clean and df3_clean before you make any changes to data. We dont want to loose the original data hence the copies."
   ]
  },
  {
   "cell_type": "markdown",
   "metadata": {},
   "source": [
    "#### Define: Create a colum Stage and delete doggo,floofer ,pupper,puppo.                        "
   ]
  },
  {
   "cell_type": "markdown",
   "metadata": {},
   "source": [
    "1.There was a sepearate column for all the stages of dog and are filled with lot of NONe values. Hence created one single column(stage) that reflects which stage the dog is in and delete the individual columns doggo,floofer ,pupper,puppo."
   ]
  },
  {
   "cell_type": "markdown",
   "metadata": {},
   "source": [
    "#### Define new columns for year,month and day and delete timestamp"
   ]
  },
  {
   "cell_type": "markdown",
   "metadata": {},
   "source": [
    "Changed the data type for df1_clean['timestamp'] from object to datatime using pd.to_datetime() and extracted year, month and day to new columns called df1_clean['year'] , df1_clean['month'], df1_clean['weekday']"
   ]
  },
  {
   "cell_type": "markdown",
   "metadata": {},
   "source": [
    "#### Define rating_denomenator should be standardized"
   ]
  },
  {
   "cell_type": "markdown",
   "metadata": {},
   "source": [
    "rating_denomenator has values other than 10. Hence assigned all the values in column to 10"
   ]
  },
  {
   "cell_type": "markdown",
   "metadata": {},
   "source": [
    "#### Define There are incorrect numerator values hence correct all values above 20 "
   ]
  },
  {
   "cell_type": "markdown",
   "metadata": {},
   "source": [
    "There are incorrect values for numerator.hence corrected them making sure the values are not beyond 20. "
   ]
  },
  {
   "cell_type": "markdown",
   "metadata": {},
   "source": [
    "#### Define : We want only original ratings that have images hence we dont need data from retweet columns"
   ]
  },
  {
   "cell_type": "markdown",
   "metadata": {},
   "source": [
    "Filtered out the rows which are empty in df[retweeted_status_user_id columns] .These are the original tweets.\n",
    "\n",
    "Also deleted columns df[['retweeted_status_id','in_reply_to_status_id','in_reply_to_user_id','retweeted_status_user_id',\n",
    "'retweeted_status_timestamp']] with lot of misssing values "
   ]
  },
  {
   "cell_type": "markdown",
   "metadata": {},
   "source": [
    "#### Define Change column name text to tweet"
   ]
  },
  {
   "cell_type": "markdown",
   "metadata": {},
   "source": [
    "Rename the column name from text to tweet using the method df1_clean.rename()"
   ]
  },
  {
   "cell_type": "markdown",
   "metadata": {},
   "source": [
    "#### Define Erroneous data under column 'name'"
   ]
  },
  {
   "cell_type": "markdown",
   "metadata": {},
   "source": [
    "There are lot of values in this column with values like 'a', and None. Used df1_clean.replace() to replace such values with np.nan. Also used str.capitalize() to make sure that all names start with capital letters."
   ]
  },
  {
   "cell_type": "markdown",
   "metadata": {},
   "source": [
    "#### Define Rename column names in df2"
   ]
  },
  {
   "cell_type": "markdown",
   "metadata": {},
   "source": [
    "Used df1_rename(columns=) to rename columns p1,p1_conf,p1_dog,p2,p2_conf,p2_dog,p3 ,p3_conf,p3_dog to \n",
    "'Breed_pred1','conf_for_pred1','isdog_pred1','Breed_pred2','conf_for_pred2','isdog_pred2','Breed_pred3','conf_for_pred3','isdog_pred3'"
   ]
  },
  {
   "cell_type": "markdown",
   "metadata": {},
   "source": [
    "#### Define Remove duplicated images from jpg_url in df2"
   ]
  },
  {
   "cell_type": "markdown",
   "metadata": {},
   "source": [
    "Remove duplicate images from column jpg_url using method drop_duplicates()"
   ]
  },
  {
   "cell_type": "markdown",
   "metadata": {},
   "source": [
    "#### Rename column of df3 id to tweet_id"
   ]
  },
  {
   "cell_type": "markdown",
   "metadata": {},
   "source": [
    "Rename column id to tweet_id in df3"
   ]
  },
  {
   "cell_type": "markdown",
   "metadata": {},
   "source": [
    "#### Merge all dataframes"
   ]
  },
  {
   "cell_type": "markdown",
   "metadata": {},
   "source": [
    "Merge all the dataframes into single master dataframe using pd.merge()"
   ]
  },
  {
   "cell_type": "markdown",
   "metadata": {},
   "source": [
    "### Store Data"
   ]
  },
  {
   "cell_type": "markdown",
   "metadata": {},
   "source": [
    "Store all the data to csv file using to_csv()"
   ]
  },
  {
   "cell_type": "code",
   "execution_count": null,
   "metadata": {},
   "outputs": [],
   "source": []
  }
 ],
 "metadata": {
  "kernelspec": {
   "display_name": "Python 3",
   "language": "python",
   "name": "python3"
  },
  "language_info": {
   "codemirror_mode": {
    "name": "ipython",
    "version": 3
   },
   "file_extension": ".py",
   "mimetype": "text/x-python",
   "name": "python",
   "nbconvert_exporter": "python",
   "pygments_lexer": "ipython3",
   "version": "3.6.3"
  }
 },
 "nbformat": 4,
 "nbformat_minor": 2
}
